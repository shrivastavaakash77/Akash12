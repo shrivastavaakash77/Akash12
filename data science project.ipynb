{
 "cells": [
  {
   "cell_type": "code",
   "execution_count": null,
   "id": "41f9e94e",
   "metadata": {},
   "outputs": [],
   "source": [
    "import numpy as np\n",
    "import pandas as pd\n",
    "import matplotlib.pyplot as plt\n",
    "import seaborn as sns\n",
    "from datetime import date"
   ]
  },
  {
   "cell_type": "code",
   "execution_count": null,
   "id": "2b90c7fa",
   "metadata": {},
   "outputs": [],
   "source": [
    "data=pd.read_csv('Walmart_Store_sales.csv')\n",
    "data"
   ]
  },
  {
   "cell_type": "code",
   "execution_count": null,
   "id": "45e4207c",
   "metadata": {},
   "outputs": [],
   "source": [
    "data.head(10)"
   ]
  },
  {
   "cell_type": "code",
   "execution_count": null,
   "id": "7dbcf0d5",
   "metadata": {},
   "outputs": [],
   "source": [
    "data.info()"
   ]
  },
  {
   "cell_type": "code",
   "execution_count": null,
   "id": "c9eadc70",
   "metadata": {},
   "outputs": [],
   "source": [
    "data.max()"
   ]
  },
  {
   "cell_type": "markdown",
   "id": "a5cc6da1",
   "metadata": {},
   "source": [
    "# QUESTION 1 :- Which store has maximum sales in this dataset?"
   ]
  },
  {
   "cell_type": "code",
   "execution_count": null,
   "id": "7867fc8b",
   "metadata": {},
   "outputs": [],
   "source": [
    "data.loc[data['Weekly_Sales']==data['Weekly_Sales'].max()]"
   ]
  },
  {
   "cell_type": "markdown",
   "id": "83e3c7cd",
   "metadata": {},
   "source": [
    "# QUESTION 2 :- Which store has maximum standard deviation i.e., the sales vary a lot. Also, find out the coefficient of variance (C0V)"
   ]
  },
  {
   "cell_type": "code",
   "execution_count": null,
   "id": "a336a58f",
   "metadata": {},
   "outputs": [],
   "source": [
    "#Here i am grouping by store and finding the standard deviation and mean of each store.\n",
    "maxstd=pd.DataFrame(data.groupby('Store').agg({'Weekly_Sales':['std','mean']}))\n",
    "#Just resetting the index.\n",
    "maxstd = maxstd.reset_index()\n",
    "#Now we know that CoV is std/ mean we are doing this for each store.\n",
    "maxstd['CoV'] =(maxstd[('Weekly_Sales','std')]/maxstd[('Weekly_Sales','mean')]) *100\n",
    "#finding the store with maximum standard deviation.\n",
    "maxstd.loc[maxstd[('Weekly_Sales','std')]==maxstd[('Weekly_Sales','std')].max()]\n"
   ]
  },
  {
   "cell_type": "markdown",
   "id": "32f3b0f3",
   "metadata": {},
   "source": [
    "# QUESTION 3 :- Which store/s has good quarterly growth rate in Q3’2012.\n",
    "\n"
   ]
  },
  {
   "cell_type": "code",
   "execution_count": null,
   "id": "8d70801c",
   "metadata": {},
   "outputs": [],
   "source": [
    " data['Date'] = pd.to_datetime(data['Date'])"
   ]
  },
  {
   "cell_type": "code",
   "execution_count": null,
   "id": "92edcfe3",
   "metadata": {},
   "outputs": [],
   "source": [
    "Q3_date_from = pd.Timestamp(date(2012,7,1))\n",
    "Q3_date_to = pd.Timestamp(date(2012,9,30))\n",
    "Q2_date_from = pd.Timestamp(date(2012,4,1))\n",
    "Q2_date_to = pd.Timestamp(date(2012,6,30))"
   ]
  },
  {
   "cell_type": "code",
   "execution_count": null,
   "id": "4dbde3ff",
   "metadata": {},
   "outputs": [],
   "source": [
    "Q2data=data[(data['Date'] > Q2_date_from) & (data['Date'] < Q2_date_to)]\n",
    "Q3data=data[(data['Date'] > Q3_date_from) & (data['Date'] < Q3_date_to)]"
   ]
  },
  {
   "cell_type": "code",
   "execution_count": null,
   "id": "5cec53d1",
   "metadata": {},
   "outputs": [],
   "source": [
    "Q2 = pd.DataFrame(Q2data.groupby('Store')['Weekly_Sales'].sum())\n",
    "Q2.reset_index(inplace=True)\n",
    "Q2.rename(columns={'Weekly_Sales': 'Q2_Weekly_Sales'},inplace=True)"
   ]
  },
  {
   "cell_type": "code",
   "execution_count": null,
   "id": "c36555d9",
   "metadata": {},
   "outputs": [],
   "source": [
    "Q3 = pd.DataFrame(Q3data.groupby('Store')['Weekly_Sales'].sum())\n",
    "Q3.reset_index(inplace=True)\n",
    "Q3.rename(columns={'Weekly_Sales': 'Q3_Weekly_Sales'},inplace=True)"
   ]
  },
  {
   "cell_type": "code",
   "execution_count": null,
   "id": "d10f4e00",
   "metadata": {},
   "outputs": [],
   "source": [
    "Q3_Growth= Q2.merge(Q3,how='inner',on='Store')"
   ]
  },
  {
   "cell_type": "code",
   "execution_count": null,
   "id": "7926afef",
   "metadata": {},
   "outputs": [],
   "source": [
    "Q3_Growth['Growth_Rate'] =(Q3_Growth['Q3_Weekly_Sales'] - Q3_Growth['Q2_Weekly_Sales'])/Q3_Growth['Q2_Weekly_Sales']\n",
    "Q3_Growth['Growth_Rate']=round(Q3_Growth['Growth_Rate'],2)\n",
    "Q3_Growth.sort_values('Growth_Rate',ascending=False).head(1)\n"
   ]
  },
  {
   "cell_type": "code",
   "execution_count": null,
   "id": "816e8fb8",
   "metadata": {},
   "outputs": [],
   "source": [
    "Q3_Growth.sort_values('Growth_Rate',ascending=False).tail(1)"
   ]
  },
  {
   "cell_type": "code",
   "execution_count": null,
   "id": "17aa2d1c",
   "metadata": {},
   "outputs": [],
   "source": [
    "data.groupby('Holiday_Flag')['Weekly_Sales'].mean()"
   ]
  },
  {
   "cell_type": "code",
   "execution_count": null,
   "id": "63032713",
   "metadata": {},
   "outputs": [],
   "source": [
    "#marking the holiday dates\n",
    "Christmas1 = pd.Timestamp(date(2010,12,31) )\n",
    "Christmas2 = pd.Timestamp(date(2011,12,30) )\n",
    "Christmas3 = pd.Timestamp(date(2012,12,28) )\n",
    "Christmas4 = pd.Timestamp(date(2013,12,27) )\n",
    "\n",
    "Thanksgiving1=pd.Timestamp(date(2010,11,26) )\n",
    "Thanksgiving2=pd.Timestamp(date(2011,11,25) )\n",
    "Thanksgiving3=pd.Timestamp(date(2012,11,23) )\n",
    "Thanksgiving4=pd.Timestamp(date(2013,11,29) )\n",
    "\n",
    "LabourDay1=pd.Timestamp(date(2010,9,10) )\n",
    "LabourDay2=pd.Timestamp(date(2011,9,9) )\n",
    "LabourDay3=pd.Timestamp(date(2012,9,7) )\n",
    "LabourDay4=pd.Timestamp(date(2013,9,6) )\n",
    "\n",
    "SuperBowl1=pd.Timestamp(date(2010,2,12) )\n",
    "SuperBowl2=pd.Timestamp(date(2011,2,11) )\n",
    "SuperBowl3=pd.Timestamp(date(2012,2,10) )\n",
    "SuperBowl4=pd.Timestamp(date(2013,2,8) )\n"
   ]
  },
  {
   "cell_type": "code",
   "execution_count": null,
   "id": "3cc2ec2c",
   "metadata": {},
   "outputs": [],
   "source": [
    "#Calculating the mean sales during the holidays\n",
    "Christmas_mean_sales=data[(data['Date'] == Christmas1) | (data['Date'] == Christmas2) | (data['Date'] == Christmas3) | (data['Date'] == Christmas4)]\n",
    "Thanksgiving_mean_sales=data[(data['Date'] == Thanksgiving1) | (data['Date'] == Thanksgiving2) | (data['Date'] == Thanksgiving3) | (data['Date'] == Thanksgiving4)]\n",
    "LabourDay_mean_sales=data[(data['Date'] == LabourDay1) | (data['Date'] == LabourDay2) | (data['Date'] == LabourDay3) | (data['Date'] == LabourDay4)]\n",
    "SuperBowl_mean_sales=data[(data['Date'] == SuperBowl1) | (data['Date'] == SuperBowl2) | (data['Date'] == SuperBowl3) | (data['Date'] == SuperBowl4)]"
   ]
  },
  {
   "cell_type": "code",
   "execution_count": null,
   "id": "83aebbc7",
   "metadata": {},
   "outputs": [],
   "source": [
    "list_of_mean_sales = {'Christmas_mean_sales' : round(Christmas_mean_sales['Weekly_Sales'].mean(),2),\n",
    "'Thanksgiving_mean_sales': round(Thanksgiving_mean_sales['Weekly_Sales'].mean(),2),\n",
    "'LabourDay_mean_sales' : round(LabourDay_mean_sales['Weekly_Sales'].mean(),2),\n",
    "'SuperBowl_mean_sales':round(SuperBowl_mean_sales['Weekly_Sales'].mean(),2),\n",
    "'Non holiday weekly sales' : data[data['Holiday_Flag'] == 0 ]['Weekly_Sales'].mean()}\n",
    "list_of_mean_sales\n"
   ]
  },
  {
   "cell_type": "markdown",
   "id": "7711d7c3",
   "metadata": {},
   "source": [
    "# QUESTION 5 :-Provide a Monthly,Quaterly and Semester view of sales in units and give insights."
   ]
  },
  {
   "cell_type": "code",
   "execution_count": null,
   "id": "ea712efb",
   "metadata": {},
   "outputs": [],
   "source": [
    "#Monthly sales \n",
    "monthly = data.groupby(pd.Grouper(key='Date', freq='1M')).sum()# groupby each 1 month\n",
    "monthly=monthly.reset_index()\n",
    "fig, ax = plt.subplots(figsize=(10,8))\n",
    "X = monthly['Date']\n",
    "Y = monthly['Weekly_Sales']\n",
    "plt.plot(X,Y)\n",
    "plt.title('Month Wise Sales')\n",
    "plt.xlabel('Monthly')\n",
    "plt.ylabel('Weekly_Sales')"
   ]
  },
  {
   "cell_type": "code",
   "execution_count": null,
   "id": "4f3c0905",
   "metadata": {},
   "outputs": [],
   "source": [
    "#Quaterly Sales \n",
    "Quaterly = data.groupby(pd.Grouper(key='Date', freq='3M')).sum()\n",
    "Quaterly = Quaterly.reset_index()\n",
    "fig, ax = plt.subplots(figsize=(10,8))\n",
    "X = Quaterly['Date']\n",
    "Y = Quaterly['Weekly_Sales']\n",
    "plt.plot(X,Y)\n",
    "plt.title('Quaterly Wise Sales')\n",
    "plt.xlabel('Quaterly')\n",
    "plt.ylabel('Weekly_Sales')"
   ]
  },
  {
   "cell_type": "code",
   "execution_count": null,
   "id": "35682667",
   "metadata": {},
   "outputs": [],
   "source": [
    "#Semester Sales \n",
    "Semester = data.groupby(pd.Grouper(key='Date', freq='6M')).sum()\n",
    "Semester = Semester.reset_index()\n",
    "fig, ax = plt.subplots(figsize=(10,8))\n",
    "X = Semester['Date']\n",
    "Y = Semester['Weekly_Sales']\n",
    "plt.plot(X,Y)\n",
    "plt.title('Semester Wise Sales')\n",
    "plt.xlabel('Semester')\n",
    "plt.ylabel('Weekly_Sales')\n"
   ]
  },
  {
   "cell_type": "code",
   "execution_count": 25,
   "id": "7c86cb21",
   "metadata": {},
   "outputs": [
    {
     "ename": "SyntaxError",
     "evalue": "invalid syntax (589376588.py, line 1)",
     "output_type": "error",
     "traceback": [
      "\u001b[1;36m  Input \u001b[1;32mIn [25]\u001b[1;36m\u001b[0m\n\u001b[1;33m    a=456 b,c,d=10\u001b[0m\n\u001b[1;37m          ^\u001b[0m\n\u001b[1;31mSyntaxError\u001b[0m\u001b[1;31m:\u001b[0m invalid syntax\n"
     ]
    },
    {
     "ename": "SyntaxError",
     "evalue": "invalid syntax (589376588.py, line 1)",
     "output_type": "error",
     "traceback": [
      "\u001b[1;36m  Input \u001b[1;32mIn [25]\u001b[1;36m\u001b[0m\n\u001b[1;33m    a=456 b,c,d=10\u001b[0m\n\u001b[1;37m          ^\u001b[0m\n\u001b[1;31mSyntaxError\u001b[0m\u001b[1;31m:\u001b[0m invalid syntax\n"
     ]
    }
   ],
   "source": []
  },
  {
   "cell_type": "code",
   "execution_count": null,
   "id": "3ef234ea",
   "metadata": {},
   "outputs": [],
   "source": []
  },
  {
   "cell_type": "code",
   "execution_count": null,
   "id": "efadc4e7",
   "metadata": {},
   "outputs": [],
   "source": []
  }
 ],
 "metadata": {
  "kernelspec": {
   "display_name": "Python 3 (ipykernel)",
   "language": "python",
   "name": "python3"
  },
  "language_info": {
   "codemirror_mode": {
    "name": "ipython",
    "version": 3
   },
   "file_extension": ".py",
   "mimetype": "text/x-python",
   "name": "python",
   "nbconvert_exporter": "python",
   "pygments_lexer": "ipython3",
   "version": "3.9.12"
  }
 },
 "nbformat": 4,
 "nbformat_minor": 5
}
